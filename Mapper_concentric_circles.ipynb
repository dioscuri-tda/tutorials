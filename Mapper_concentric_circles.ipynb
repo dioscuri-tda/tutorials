{
 "cells": [
  {
   "cell_type": "markdown",
   "metadata": {},
   "source": [
    "This is a toy example of the use of Mapper algorithm. We will generate two concentric cycles and run the mapper on them. As a filtering function we will select projection to the second coordinate, as a colouring function, projection to the first one. Clustering method will be DBSCAN with some more or less random parameters. "
   ]
  },
  {
   "cell_type": "code",
   "execution_count": null,
   "metadata": {},
   "outputs": [],
   "source": [
    "#If you do not have KepplerMapper installed, please execute:\n",
    "!pip install kmapper"
   ]
  },
  {
   "cell_type": "code",
   "execution_count": null,
   "metadata": {},
   "outputs": [],
   "source": [
    "import kmapper as km\n",
    "from kmapper import jupyter \n",
    "import numpy as np\n",
    "import sklearn\n",
    "import matplotlib.pyplot as plt"
   ]
  },
  {
   "cell_type": "code",
   "execution_count": null,
   "metadata": {},
   "outputs": [],
   "source": [
    "import kmapper as km\n",
    "from sklearn import datasets\n",
    "data, labels = datasets.make_circles(n_samples=5000, noise=0.03, factor=0.3)\n",
    "\n",
    "# Initialize\n",
    "mapper = km.KeplerMapper(verbose=1)\n",
    "projected_data = data[:,1]\n",
    "colouring = data[:,0]"
   ]
  },
  {
   "cell_type": "code",
   "execution_count": null,
   "metadata": {},
   "outputs": [],
   "source": [
    "#Here is our dataset:\n",
    "plot = plt.scatter( data[:,0],data[:,1] )"
   ]
  },
  {
   "cell_type": "code",
   "execution_count": null,
   "metadata": {
    "scrolled": true
   },
   "outputs": [],
   "source": [
    "graph = mapper.map(projected_data,data,\n",
    "                      clusterer=sklearn.cluster.DBSCAN(eps=0.3, min_samples=15),\n",
    "                      cover=km.Cover(20, 0.3))\n",
    "\n",
    "# Visualize it\n",
    "#N.B. if your keppele mapper version is <= 1.4.1 you do want the line color_function_name='placeholder_name'\n",
    "#commented. For higher versions, please uncomment this line. For some reason kepler mapper do not have backward \n",
    "#compatibility here. \n",
    "html = mapper.visualize(graph, path_html=\"concentric_circles_km.html\",color_function=colouring,\n",
    "                 title=\"make_circles(n_samples=5000, noise=0.03, factor=0.3)\"\n",
    "                 #color_function_name='placeholder_name'\n",
    "                 )\n",
    "\n",
    "jupyter.display(path_html=\"concentric_circles_km.html\")"
   ]
  },
  {
   "cell_type": "code",
   "execution_count": null,
   "metadata": {},
   "outputs": [],
   "source": [
    "#Here is an alternative way of visualizing the mapper graph with mathplotlib:\n",
    "km.draw_matplotlib(graph, layout=\"spring\")\n",
    "plt.show()"
   ]
  },
  {
   "cell_type": "code",
   "execution_count": null,
   "metadata": {},
   "outputs": [],
   "source": []
  }
 ],
 "metadata": {
  "kernelspec": {
   "display_name": "Python 3 (ipykernel)",
   "language": "python",
   "name": "python3"
  },
  "language_info": {
   "codemirror_mode": {
    "name": "ipython",
    "version": 3
   },
   "file_extension": ".py",
   "mimetype": "text/x-python",
   "name": "python",
   "nbconvert_exporter": "python",
   "pygments_lexer": "ipython3",
   "version": "3.10.9"
  }
 },
 "nbformat": 4,
 "nbformat_minor": 4
}
