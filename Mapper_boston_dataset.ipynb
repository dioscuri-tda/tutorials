{
 "cells": [
  {
   "cell_type": "markdown",
   "metadata": {},
   "source": [
    "In this exercise we will play with a classical Boston Property Dataset. It describes the prices of properties in Boston in '70. The task is to understand how they depend on multiple factors. Please consider the following URL for more details#https://www.cs.toronto.edu/~delve/data/boston/bostonDetail.html\n",
    "\n",
    "Note the list of considered variables. Varianble number 14:\n",
    "MEDV - Median value of owner-occupied homes in $1000's\n",
    "is the descriptive variable we want to understand.\n",
    "\n",
    "In the files we use for this demonstration file boston contains only first 13 variables (we will use those data to construct the Mapper graph). The last variable - the descriptive one is stored in boston_prices. "
   ]
  },
  {
   "cell_type": "code",
   "execution_count": null,
   "metadata": {},
   "outputs": [],
   "source": [
    "#If you do not have KepplerMapper installed, please execute:\n",
    "!pip install kmapper"
   ]
  },
  {
   "cell_type": "code",
   "execution_count": null,
   "metadata": {},
   "outputs": [],
   "source": [
    "import kmapper as km\n",
    "from kmapper import jupyter \n",
    "import numpy as np\n",
    "import sklearn\n",
    "\n",
    "import matplotlib.pyplot as plt\n",
    "%matplotlib inline\n",
    "\n",
    "# Initialize\n",
    "mapper = km.KeplerMapper(verbose=1)"
   ]
  },
  {
   "cell_type": "code",
   "execution_count": null,
   "metadata": {},
   "outputs": [],
   "source": [
    "boston_txt = np.loadtxt(\"boston\", dtype=str)\n",
    "boston_prices_txt = np.loadtxt(\"boston_prices\", dtype=str)\n",
    "\n",
    "boston = boston_txt.astype(np.float)\n",
    "boston_prices = boston_prices_txt.astype(np.float)\n",
    "boston_prices = boston_prices.reshape( [len(boston_prices),1] )\n",
    "\n",
    "#We have choosen the lens function based on stochastic neighbour embedding. Typically the choice of the lense function is the most difficult and involvinf in the process of creating Mapper graph. It often requires so called\n",
    "#expert knowledge. Here we do make an educative guess :)\n",
    "projected_data = mapper.fit_transform(boston,projection=sklearn.manifold.TSNE())"
   ]
  },
  {
   "cell_type": "code",
   "execution_count": null,
   "metadata": {},
   "outputs": [],
   "source": [
    "mapper = km.KeplerMapper(verbose=1)\n",
    "\n",
    "#Here is a process of creation of Mapper graph with different clustering function. You may plug in here anything from sklearn.cluster - I have provided \n",
    "#only a few examples. Play with it and see how the clustering method determine the output. \n",
    "graph = mapper.map(projected_data,boston,cover=km.Cover(10, 0.5)\n",
    "                   #,clusterer=sklearn.cluster.DBSCAN(eps=20, min_samples=3)\n",
    "                   ,clusterer=sklearn.cluster.KMeans(init=\"k-means++\", n_clusters=2)\n",
    "                   #,clusterer=sklearn.cluster.MeanShift(min_bin_freq=1, cluster_all=True, max_iter=300)\n",
    "                   #,clusterer=sklearn.cluster.AgglomerativeClustering(n_clusters=2, affinity='euclidean', compute_full_tree='auto', linkage='ward')\n",
    "                   #,clusterer=sklearn.cluster.SpectralClustering(n_clusters=8,n_init=10,n_neighbors=10)\n",
    "                  )\n",
    "\n",
    "# Visualize it\n",
    "#N.B. if your keppele mapper version is <= 1.4.1 you do want the line color_function_name='placeholder_name'\n",
    "#commented. For higher versions, please uncomment this line. For some reason kepler mapper do not have backward \n",
    "#compatibility here. \n",
    "html = mapper.visualize(graph,path_html=\"boston_dataset.html\",\n",
    "                        color_function=boston_prices,\n",
    "                        #color_function_name='placeholder_name'\n",
    "                       )\n",
    "\n",
    "jupyter.display(path_html=\"boston_dataset.html\")"
   ]
  },
  {
   "cell_type": "code",
   "execution_count": null,
   "metadata": {},
   "outputs": [],
   "source": [
    "km.draw_matplotlib(graph, layout=\"spring\")"
   ]
  },
  {
   "cell_type": "code",
   "execution_count": null,
   "metadata": {},
   "outputs": [],
   "source": []
  }
 ],
 "metadata": {
  "kernelspec": {
   "display_name": "Python 3 (ipykernel)",
   "language": "python",
   "name": "python3"
  },
  "language_info": {
   "codemirror_mode": {
    "name": "ipython",
    "version": 3
   },
   "file_extension": ".py",
   "mimetype": "text/x-python",
   "name": "python",
   "nbconvert_exporter": "python",
   "pygments_lexer": "ipython3",
   "version": "3.10.9"
  }
 },
 "nbformat": 4,
 "nbformat_minor": 4
}
