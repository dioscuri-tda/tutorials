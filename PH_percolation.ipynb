{
 "cells": [
  {
   "cell_type": "code",
   "execution_count": 1,
   "metadata": {},
   "outputs": [],
   "source": [
    "import numpy as np\n",
    "import math\n",
    "import random\n",
    "import gudhi as gd\n",
    "from matplotlib import pyplot as plt  \n",
    "%matplotlib inline"
   ]
  },
  {
   "cell_type": "code",
   "execution_count": 2,
   "metadata": {},
   "outputs": [],
   "source": [
    "#consider n by n grid:\n",
    "n = 100\n",
    "#Ranges of probabilities of pixel being black;\n",
    "p = [0.1,0.2,0.3,0.4,0.5,0.6,0.7,0.8,0.9]\n",
    "#number of repetitions;\n",
    "rept_no = 10"
   ]
  },
  {
   "cell_type": "code",
   "execution_count": 6,
   "metadata": {},
   "outputs": [
    {
     "name": "stdout",
     "output_type": "stream",
     "text": [
      "prob :  0.1 , rept:  1 , b0 :  657 , b1 :  4\n",
      "prob :  0.1 , rept:  2 , b0 :  653 , b1 :  2\n",
      "prob :  0.1 , rept:  3 , b0 :  642 , b1 :  2\n",
      "prob :  0.1 , rept:  4 , b0 :  649 , b1 :  1\n",
      "prob :  0.1 , rept:  5 , b0 :  652 , b1 :  2\n",
      "prob :  0.1 , rept:  6 , b0 :  635 , b1 :  2\n",
      "prob :  0.1 , rept:  7 , b0 :  643 , b1 :  1\n",
      "prob :  0.1 , rept:  8 , b0 :  645 , b1 :  2\n",
      "prob :  0.1 , rept:  9 , b0 :  626 , b1 :  2\n",
      "prob :  0.2 , rept:  1 , b0 :  756 , b1 :  12\n",
      "prob :  0.2 , rept:  2 , b0 :  762 , b1 :  14\n",
      "prob :  0.2 , rept:  3 , b0 :  740 , b1 :  10\n",
      "prob :  0.2 , rept:  4 , b0 :  708 , b1 :  16\n",
      "prob :  0.2 , rept:  5 , b0 :  719 , b1 :  10\n",
      "prob :  0.2 , rept:  6 , b0 :  746 , b1 :  14\n",
      "prob :  0.2 , rept:  7 , b0 :  737 , b1 :  14\n",
      "prob :  0.2 , rept:  8 , b0 :  758 , b1 :  11\n",
      "prob :  0.2 , rept:  9 , b0 :  748 , b1 :  13\n",
      "prob :  0.3 , rept:  1 , b0 :  476 , b1 :  68\n",
      "prob :  0.3 , rept:  2 , b0 :  529 , b1 :  64\n",
      "prob :  0.3 , rept:  3 , b0 :  481 , b1 :  58\n",
      "prob :  0.3 , rept:  4 , b0 :  452 , b1 :  69\n",
      "prob :  0.3 , rept:  5 , b0 :  476 , b1 :  76\n",
      "prob :  0.3 , rept:  6 , b0 :  553 , b1 :  51\n",
      "prob :  0.3 , rept:  7 , b0 :  506 , b1 :  73\n",
      "prob :  0.3 , rept:  8 , b0 :  512 , b1 :  70\n",
      "prob :  0.3 , rept:  9 , b0 :  484 , b1 :  75\n",
      "prob :  0.4 , rept:  1 , b0 :  210 , b1 :  221\n",
      "prob :  0.4 , rept:  2 , b0 :  181 , b1 :  251\n",
      "prob :  0.4 , rept:  3 , b0 :  165 , b1 :  252\n",
      "prob :  0.4 , rept:  4 , b0 :  181 , b1 :  242\n",
      "prob :  0.4 , rept:  5 , b0 :  185 , b1 :  229\n",
      "prob :  0.4 , rept:  6 , b0 :  218 , b1 :  256\n",
      "prob :  0.4 , rept:  7 , b0 :  204 , b1 :  241\n",
      "prob :  0.4 , rept:  8 , b0 :  207 , b1 :  232\n",
      "prob :  0.4 , rept:  9 , b0 :  198 , b1 :  250\n",
      "prob :  0.5 , rept:  1 , b0 :  50 , b1 :  557\n",
      "prob :  0.5 , rept:  2 , b0 :  37 , b1 :  612\n",
      "prob :  0.5 , rept:  3 , b0 :  34 , b1 :  647\n",
      "prob :  0.5 , rept:  4 , b0 :  34 , b1 :  677\n",
      "prob :  0.5 , rept:  5 , b0 :  45 , b1 :  627\n",
      "prob :  0.5 , rept:  6 , b0 :  42 , b1 :  653\n",
      "prob :  0.5 , rept:  7 , b0 :  67 , b1 :  537\n",
      "prob :  0.5 , rept:  8 , b0 :  58 , b1 :  611\n",
      "prob :  0.5 , rept:  9 , b0 :  62 , b1 :  574\n",
      "prob :  0.6 , rept:  1 , b0 :  11 , b1 :  957\n",
      "prob :  0.6 , rept:  2 , b0 :  9 , b1 :  968\n",
      "prob :  0.6 , rept:  3 , b0 :  9 , b1 :  1038\n",
      "prob :  0.6 , rept:  4 , b0 :  7 , b1 :  994\n",
      "prob :  0.6 , rept:  5 , b0 :  8 , b1 :  986\n",
      "prob :  0.6 , rept:  6 , b0 :  9 , b1 :  1014\n",
      "prob :  0.6 , rept:  7 , b0 :  13 , b1 :  1006\n",
      "prob :  0.6 , rept:  8 , b0 :  9 , b1 :  963\n",
      "prob :  0.6 , rept:  9 , b0 :  14 , b1 :  980\n",
      "prob :  0.7 , rept:  1 , b0 :  4 , b1 :  1254\n",
      "prob :  0.7 , rept:  2 , b0 :  1 , b1 :  1225\n",
      "prob :  0.7 , rept:  3 , b0 :  3 , b1 :  1210\n",
      "prob :  0.7 , rept:  4 , b0 :  2 , b1 :  1213\n",
      "prob :  0.7 , rept:  5 , b0 :  2 , b1 :  1218\n",
      "prob :  0.7 , rept:  6 , b0 :  4 , b1 :  1248\n",
      "prob :  0.7 , rept:  7 , b0 :  2 , b1 :  1252\n",
      "prob :  0.7 , rept:  8 , b0 :  2 , b1 :  1211\n",
      "prob :  0.7 , rept:  9 , b0 :  3 , b1 :  1189\n",
      "prob :  0.8 , rept:  1 , b0 :  2 , b1 :  1158\n",
      "prob :  0.8 , rept:  2 , b0 :  1 , b1 :  1147\n",
      "prob :  0.8 , rept:  3 , b0 :  1 , b1 :  1152\n",
      "prob :  0.8 , rept:  4 , b0 :  1 , b1 :  1162\n",
      "prob :  0.8 , rept:  5 , b0 :  1 , b1 :  1159\n",
      "prob :  0.8 , rept:  6 , b0 :  1 , b1 :  1174\n",
      "prob :  0.8 , rept:  7 , b0 :  1 , b1 :  1147\n",
      "prob :  0.8 , rept:  8 , b0 :  1 , b1 :  1150\n",
      "prob :  0.8 , rept:  9 , b0 :  1 , b1 :  1154\n",
      "prob :  0.9 , rept:  1 , b0 :  1 , b1 :  758\n",
      "prob :  0.9 , rept:  2 , b0 :  1 , b1 :  752\n",
      "prob :  0.9 , rept:  3 , b0 :  1 , b1 :  768\n",
      "prob :  0.9 , rept:  4 , b0 :  1 , b1 :  772\n",
      "prob :  0.9 , rept:  5 , b0 :  1 , b1 :  771\n",
      "prob :  0.9 , rept:  6 , b0 :  1 , b1 :  820\n",
      "prob :  0.9 , rept:  7 , b0 :  1 , b1 :  758\n",
      "prob :  0.9 , rept:  8 , b0 :  1 , b1 :  726\n",
      "prob :  0.9 , rept:  9 , b0 :  1 , b1 :  769\n"
     ]
    }
   ],
   "source": [
    "#For every probability in the range;\n",
    "b0_array = []\n",
    "b1_array = []\n",
    "for prob in p:\n",
    "    #For a fixed number of repetitions;\n",
    "    for rept in range(1,rept_no):\n",
    "        #generate a random bitmap \n",
    "        bitmap = []\n",
    "        for i in range(0,n):\n",
    "            for j in range (0,n):\n",
    "                val = np.random.uniform(0,1)\n",
    "                if ( val < prob ):\n",
    "                    bitmap.append(0)\n",
    "                    #print(0)\n",
    "                else:\n",
    "                    bitmap.append(1)\n",
    "                    #print(1)\n",
    "        #Now compute homology of the obtained complex;\n",
    "        bcc = gd.CubicalComplex(top_dimensional_cells = bitmap, dimensions=[n,n])\n",
    "        persistence = bcc.persistence()\n",
    "        \n",
    "        #get Betti numbers out of it; note that every interval in each dimension get a Betti number;\n",
    "        b0 = 0\n",
    "        b1 = 1\n",
    "        for pp in persistence:\n",
    "            if pp[0] == 0:\n",
    "                b0 = b0+1\n",
    "            else:\n",
    "                b1 = b1+1\n",
    "        print( 'prob : ' , prob , ', rept: ' ,rept  ,', b0 : ' , b0 ,', b1 : ', b1 )\n",
    "        b0_array.append(b0)\n",
    "        b1_array.append(b1)\n",
    "        \n",
    "        \n",
    "        \n",
    "        \n",
    "        "
   ]
  },
  {
   "cell_type": "code",
   "execution_count": 9,
   "metadata": {},
   "outputs": [
    {
     "data": {
      "text/plain": [
       "[<matplotlib.lines.Line2D at 0x7f62a1661a30>]"
      ]
     },
     "execution_count": 9,
     "metadata": {},
     "output_type": "execute_result"
    },
    {
     "data": {
      "image/png": "[encoded data removed]",
      "text/plain": [
       "<Figure size 432x288 with 1 Axes>"
      ]
     },
     "metadata": {
      "needs_background": "light"
     },
     "output_type": "display_data"
    }
   ],
   "source": [
    "plt.plot(b0_array)\n",
    "plt.plot(b1_array)\n"
   ]
  },
  {
   "cell_type": "code",
   "execution_count": null,
   "metadata": {},
   "outputs": [],
   "source": []
  }
 ],
 "metadata": {
  "kernelspec": {
   "display_name": "Python 3",
   "language": "python",
   "name": "python3"
  },
  "language_info": {
   "codemirror_mode": {
    "name": "ipython",
    "version": 3
   },
   "file_extension": ".py",
   "mimetype": "text/x-python",
   "name": "python",
   "nbconvert_exporter": "python",
   "pygments_lexer": "ipython3",
   "version": "3.8.5"
  }
 },
 "nbformat": 4,
 "nbformat_minor": 4
}
